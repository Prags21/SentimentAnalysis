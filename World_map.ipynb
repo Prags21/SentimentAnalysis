{
  "nbformat": 4,
  "nbformat_minor": 0,
  "metadata": {
    "colab": {
      "name": "Welcome To Colaboratory",
      "version": "0.3.2",
      "provenance": [],
      "collapsed_sections": [],
      "toc_visible": true,
      "include_colab_link": true
    },
    "kernelspec": {
      "display_name": "Python 3",
      "name": "python3"
    }
  },
  "cells": [
    {
      "cell_type": "markdown",
      "metadata": {
        "id": "view-in-github",
        "colab_type": "text"
      },
      "source": [
        "<a href=\"https://colab.research.google.com/github/Prags21/SentimentAnalysis/blob/master/World_map.ipynb\" target=\"_parent\"><img src=\"https://colab.research.google.com/assets/colab-badge.svg\" alt=\"Open In Colab\"/></a>"
      ]
    },
    {
      "cell_type": "code",
      "metadata": {
        "id": "tsCveRpVxlyQ",
        "colab_type": "code",
        "colab": {}
      },
      "source": [
        "# pylint: skip-file\n",
        "import csv\n",
        "import pandas as pd\n",
        "import collections\n",
        "\n",
        "table=pd.read_csv('country.csv', encoding = \"ISO-8859-1\")\n",
        "a=[]\n",
        "for ind,item in table.iterrows():\n",
        "    a.append(item['Country'])\n",
        "counts=collections.Counter(a)\n",
        "print(counts)\n",
        "keys=['Country','Tweets Count']\n",
        "with open('result.csv', 'a') as csvFile:\n",
        "    dict_writer = csv.DictWriter(csvFile, fieldnames=keys)\n",
        "    dict_writer.writeheader()\n",
        "    for ind in counts:\n",
        "        dict_={}\n",
        "        dict_ = {'Country': ind,\n",
        "             'Tweets Count': counts[ind]\n",
        "                }\n",
        "        dict_writer.writerow(dict_)"
      ],
      "execution_count": 0,
      "outputs": []
    },
    {
      "cell_type": "code",
      "metadata": {
        "id": "OsZKUlUXy6rH",
        "colab_type": "code",
        "colab": {}
      },
      "source": [
        "# Import libraries\n",
        "import pandas as pd\n",
        "import folium\n",
        " \n",
        "# Load the shape of the zone (US states)\n",
        "# Find the original file here: https://github.com/python-visualization/folium/tree/master/examples/data\n",
        "# You have to download this file and set the directory where you saved it\n",
        " \n",
        "# Load the unemployment value of each state\n",
        "# Find the original file here: https://github.com/python-visualization/folium/tree/master/examples/data\n",
        "state_data = pd.read_csv('result.csv')\n",
        " \n",
        "# Initialize the map:\n",
        "world_map = folium.Map(location=[0, 0], zoom_start=2)\n",
        "bins = list(state_data['Tweets Count'].quantile([0, 0.1, 0.2, 0.3,0.5,0.6,0.7,0.8,0.9, 1]))\n",
        "\n",
        "# Add the color for the chloropleth:\n",
        "folium.Choropleth(\n",
        " geo_data='world-map.json',\n",
        " name='choropleth',\n",
        " data=state_data,\n",
        " columns=['Country', 'Tweets Count'],\n",
        " key_on='feature.properties.name',\n",
        " fill_color='YlGn',\n",
        " nan_fill_color='white',  \n",
        " fill_opacity=0.7,\n",
        " line_opacity=0.2,\n",
        " legend_name='Awareness Rate (%)'\n",
        ").add_to(world_map)\n",
        "folium.LayerControl().add_to(world_map)\n",
        " \n",
        "# Save to html\n",
        "world_map.save('countries_distribution.html')\n",
        "world_map"
      ],
      "execution_count": 0,
      "outputs": []
    },
    {
      "cell_type": "code",
      "metadata": {
        "id": "0qn59ZC9bLRz",
        "colab_type": "code",
        "colab": {}
      },
      "source": [
        "from branca.colormap import LinearColormap\n",
        "import json\n",
        "\n",
        "map_data = pd.read_csv('result.csv')\n",
        "\n",
        "\n",
        "map_dict = map_data.set_index('Country')['Tweets Count'].to_dict()\n",
        "\n",
        "color_scale = LinearColormap(['yellow','red'], vmin = min(map_dict.values()), vmax = max(map_dict.values()))\n",
        "\n",
        "def get_color(feature):\n",
        "    value = map_dict.get(feature['properties']['name'])\n",
        "    if value is None:\n",
        "        return '#8c8c8c' # MISSING -> gray\n",
        "    else:\n",
        "        return color_scale(value)\n",
        "\n",
        "m = folium.Map(\n",
        "    location = [50, 15], \n",
        "    zoom_start = 4\n",
        ")\n",
        "\n",
        "folium.GeoJson(\n",
        "    data ='world-map.json',\n",
        "    style_function = lambda feature: {\n",
        "        'fillColor': get_color(feature),\n",
        "        'fillOpacity': 0.7,\n",
        "        'color' : 'black',\n",
        "        'weight' : 1,\n",
        "        'legend_name':'Unemployment Rate (%)'\n",
        "\n",
        "    }    \n",
        ").add_to(m)\n",
        "m"
      ],
      "execution_count": 0,
      "outputs": []
    }
  ]
}