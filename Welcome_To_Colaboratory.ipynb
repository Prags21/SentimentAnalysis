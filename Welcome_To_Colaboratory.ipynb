{
  "nbformat": 4,
  "nbformat_minor": 0,
  "metadata": {
    "colab": {
      "name": "Copy of Welcome To Colaboratory",
      "version": "0.3.2",
      "provenance": [],
      "collapsed_sections": [],
      "toc_visible": true,
      "include_colab_link": true
    },
    "kernelspec": {
      "display_name": "Python 3",
      "name": "python3"
    }
  },
  "cells": [
    {
      "cell_type": "markdown",
      "metadata": {
        "id": "view-in-github",
        "colab_type": "text"
      },
      "source": [
        "<a href=\"https://colab.research.google.com/github/Prags21/SentimentAnalysis/blob/master/Welcome_To_Colaboratory.ipynb\" target=\"_parent\"><img src=\"https://colab.research.google.com/assets/colab-badge.svg\" alt=\"Open In Colab\"/></a>"
      ]
    },
    {
      "cell_type": "code",
      "metadata": {
        "id": "G0ygD3pubC6S",
        "colab_type": "code",
        "colab": {}
      },
      "source": [
        "\n",
        "from tqdm import tqdm\n",
        "%matplotlib inline\n",
        "#Module to handle regular expressions\n",
        "import re\n",
        "#manage files\n",
        "import os\n",
        "#Library for emoji\n",
        "import emoji\n",
        "#Import pandas and numpy to handle data\n",
        "import pandas as pd\n",
        "import numpy as np\n",
        "\n",
        "#import libraries for visualization\n",
        "import matplotlib.pyplot as plt\n",
        "import seaborn as sns\n",
        "from wordcloud import WordCloud\n",
        "from PIL import Image\n",
        "\n",
        "#Import nltk to check english lexicon\n",
        "import nltk\n",
        "from nltk.tokenize import word_tokenize\n",
        "\n",
        "from nltk.corpus import (\n",
        "    wordnet,\n",
        "    stopwords\n",
        ")\n",
        "\n",
        "#import libraries for tokenization and ML\n",
        "import json;\n",
        "import keras;\n",
        "import keras.preprocessing.text as kpt;\n",
        "#from keras.preprocessing.text import Tokenizer;\n",
        "\n",
        "import sklearn\n",
        "from sklearn.preprocessing import Normalizer\n",
        "from sklearn.feature_extraction.text import (\n",
        "    CountVectorizer,\n",
        "    TfidfVectorizer\n",
        ")\n",
        "from sklearn.model_selection import train_test_split\n",
        "from sklearn.metrics import accuracy_score\n",
        "from textblob import TextBlob\n",
        "from textblob import Word\n",
        "\n",
        "\n",
        "#Import all libraries for creating a deep neural network\n",
        "#Sequential is the standard type of neural network with stackable layers\n",
        "from keras.models import (\n",
        "    Sequential,\n",
        "    model_from_json\n",
        ")\n",
        "#Dense: Standard layers with every node connected, dropout: avoids overfitting\n",
        "from keras.layers import Dense, Dropout, Activation;\n",
        "table=pd.read_csv('Dataset.csv',delimiter = ',',encoding = \"utf-8\")\n",
        "stop = stopwords.words('english')\n"
      ],
      "execution_count": 0,
      "outputs": []
    },
    {
      "cell_type": "code",
      "metadata": {
        "id": "kypJGh1nbfKZ",
        "colab_type": "code",
        "colab": {}
      },
      "source": [
        "#preprocess text in tweets by removing links, @UserNames, blank spaces, etc.\n",
        "def preprocessing_text(table):\n",
        "    #put everythin in lowercase\n",
        "    table['Tweet Text'] = table['Tweet Text'].str.lower()\n",
        "    #Replace rt indicating that was a retweet\n",
        "    #table['Tweet Text'] = table['Tweet Text'].str.replace('rt', '')\n",
        "    table['Tweet Text'] = table['Tweet Text'].str.replace('[^\\w\\s]','')\n",
        "    #Replace occurences of mentioning @UserNames\n",
        "    table['Tweet Text'] = table['Tweet Text'].replace(r'@\\w+', '', regex=True)\n",
        "    #Replace links contained in the tweet\n",
        "    table['Tweet Text'] = table['Tweet Text'].replace(r'http\\S+', '', regex=True)\n",
        "    table['Tweet Text'] = table['Tweet Text'].replace(r'www.[^ ]+', '', regex=True)\n",
        "    #remove numbers\n",
        "    table['Tweet Text'] = table['Tweet Text'].replace(r'[0-9]+', '', regex=True)\n",
        "    #replace special characters and puntuation marks\n",
        "    table['Tweet Text'] = table['Tweet Text'].replace(r'[!\"#$%&()*+,-./:;<=>?@[\\]^_`{|}~]', '', regex=True)\n",
        "    #table['Tweet Text'] = table['Tweet Text'].apply(lambda x: \" \".join(x for x in x.split() if x not in stop))\n",
        "    #freq = pd.Series(' '.join(table['Tweet Text']).split()).value_counts()[:10]\n",
        "    #freq = list(freq.index)\n",
        "    #table['Tweet Text'] = table['Tweet Text'].apply(lambda x: \" \".join(x for x in x.split() if x not in freq))\n",
        "    #freq = pd.Series(' '.join(table['Tweet Text']).split()).value_counts()[-10:]\n",
        "    #freq = list(freq.index)\n",
        "    #table['Tweet Text'] = table['Tweet Text'].apply(lambda x: \" \".join(x for x in x.split() if x not in freq))\n",
        "    #table['Tweet Text']=table['Tweet Text'].apply(lambda x: str(TextBlob(x).correct()))\n",
        "\n",
        "    return table"
      ],
      "execution_count": 0,
      "outputs": []
    },
    {
      "cell_type": "code",
      "metadata": {
        "id": "dPxrs_GDfubK",
        "colab_type": "code",
        "colab": {}
      },
      "source": [
        "#table=preprocessing_text(table)  \n",
        "#table['Tweet Text'] = table['Tweet Text'].apply(lambda x: \" \".join([Word(word).lemmatize() for word in x.split()]))\n",
        "#print(TextBlob(train['Tweet text'][0]).ngrams(2))\n",
        "\n",
        "words=[]\n",
        "\n",
        "#print(TextBlob(table['Tweet Text'][1]).words)"
      ],
      "execution_count": 0,
      "outputs": []
    },
    {
      "cell_type": "code",
      "metadata": {
        "id": "bBqWb5WxcPVF",
        "colab_type": "code",
        "colab": {}
      },
      "source": [
        "\n",
        "#Replace elongated words by identifying those repeated characters and then remove them and compare the new word with the english lexicon\n",
        "def in_dict(word):\n",
        "    if wordnet.synsets(word):\n",
        "        #if the word is in the dictionary, we'll return True\n",
        "        return True\n",
        "\n",
        "def replace_elongated_word(word):\n",
        "    regex = r'(\\w*)(\\w+)\\2(\\w*)'\n",
        "    repl = r'\\1\\2\\3'    \n",
        "    if in_dict(word):\n",
        "        return word\n",
        "    new_word = re.sub(regex, repl, word)\n",
        "    if new_word != word:\n",
        "        return replace_elongated_word(new_word)\n",
        "    else:\n",
        "        return new_word\n",
        "\n",
        "def detect_elongated_words(row):\n",
        "    regexrep = r'(\\w*)(\\w+)(\\2)(\\w*)'\n",
        "    words = [''.join(i) for i in re.findall(regexrep, row)]\n",
        "    for word in words:\n",
        "        if not in_dict(word):\n",
        "            row = re.sub(word, replace_elongated_word(word), row)\n",
        "    return row"
      ],
      "execution_count": 0,
      "outputs": []
    },
    {
      "cell_type": "code",
      "metadata": {
        "id": "cnvesvUOcXcr",
        "colab_type": "code",
        "colab": {}
      },
      "source": [
        "def stop_words(table):\n",
        "    #We need to remove the stop words\n",
        "    stop_words_list = stopwords.words('english')\n",
        "    table['Tweet Text'] = table['Tweet Text'].str.lower()\n",
        "    table['Tweet Text'] = table['Tweet Text'].apply(lambda x: ' '.join([word for word in x.split() if word not in (stop_words_list)]))\n",
        "    return table"
      ],
      "execution_count": 0,
      "outputs": []
    },
    {
      "cell_type": "code",
      "metadata": {
        "id": "AZeCvS80cb3G",
        "colab_type": "code",
        "colab": {}
      },
      "source": [
        "def replace_antonyms(word):\n",
        "    #We get all the lemma for the word\n",
        "    for syn in wordnet.synsets(word): \n",
        "        for lemma in syn.lemmas(): \n",
        "            #if the lemma is an antonyms of the word\n",
        "            if lemma.antonyms(): \n",
        "                #we return the antonym\n",
        "                return lemma.antonyms()[0].name()\n",
        "    return word\n",
        "            \n",
        "def handling_negation(row):\n",
        "    #Tokenize the row\n",
        "    words = word_tokenize(row)\n",
        "    speach_tags = ['JJ', 'JJR', 'JJS', 'NN', 'VB', 'VBD', 'VBG', 'VBN', 'VBP']\n",
        "    #We obtain the type of words that we have in the text, we use the pos_tag function\n",
        "    tags = nltk.pos_tag(words)\n",
        "    #Now we ask if we found a negation in the words\n",
        "    tags_2 = ''\n",
        "    if \"n't\" in words and \"not\" in words:\n",
        "        tags_2 = tags[min(words.index(\"n't\"), words.index(\"not\")):]\n",
        "        words_2 = words[min(words.index(\"n't\"), words.index(\"not\")):]\n",
        "        words = words[:(min(words.index(\"n't\"), words.index(\"not\")))+1]\n",
        "    elif \"n't\" in words:\n",
        "        tags_2 = tags[words.index(\"n't\"):]\n",
        "        words_2 = words[words.index(\"n't\"):] \n",
        "        words = words[:words.index(\"n't\")+1]\n",
        "    elif \"not\" in words:\n",
        "        tags_2 = tags[words.index(\"not\"):]\n",
        "        words_2 = words[words.index(\"not\"):]\n",
        "        words = words[:words.index(\"not\")+1] \n",
        "        \n",
        "    for index, word_tag in enumerate(tags_2):\n",
        "        if word_tag[1] in speach_tags:\n",
        "            words = words+[replace_antonyms(word_tag[0])]+words_2[index+2:]\n",
        "            break\n",
        "            \n",
        "    return ' '.join(words)"
      ],
      "execution_count": 0,
      "outputs": []
    },
    {
      "cell_type": "code",
      "metadata": {
        "id": "h5ld02CFchFA",
        "colab_type": "code",
        "colab": {}
      },
      "source": [
        "def cleaning_table(table):\n",
        "    #This function will process all the required cleaning for the text in our tweets\n",
        "    table = preprocessing_text(table)\n",
        "    table['Tweet Text'] = table['Tweet Text'].apply(lambda x: detect_elongated_words(x))\n",
        "    table['Tweet Text'] = table['Tweet Text'].apply(lambda x: handling_negation(x))\n",
        "    table = stop_words(table)\n",
        "    return table"
      ],
      "execution_count": 0,
      "outputs": []
    },
    {
      "cell_type": "code",
      "metadata": {
        "id": "h6WzBWQSc0DP",
        "colab_type": "code",
        "colab": {}
      },
      "source": [
        "#Vectorization for Data Visualization\n",
        "def vectorization(table):\n",
        "    #CountVectorizer will convert a collection of text documents to a matrix of token counts\n",
        "    #Produces a sparse representation of the counts \n",
        "    #Initialize\n",
        "    vector = CountVectorizer()\n",
        "    #We fit and transform the vector created\n",
        "    frequency_matrix = vector.fit_transform(table['Tweet Text'])\n",
        "    #Sum all the frequencies for each word\n",
        "    sum_frequencies = np.sum(frequency_matrix, axis=0)\n",
        "    #Now we use squeeze to remove single-dimensional entries from the shape of an array that we got from applying np.asarray to\n",
        "    #the sum of frequencies.\n",
        "    frequency = np.squeeze(np.asarray(sum_frequencies))\n",
        "    #Now we get into a dataframe all the frequencies and the words that they correspond to\n",
        "    frequency_df = pd.DataFrame([frequency], columns=vector.get_feature_names()).transpose()\n",
        "    return frequency_df"
      ],
      "execution_count": 0,
      "outputs": []
    },
    {
      "cell_type": "code",
      "metadata": {
        "id": "ZCjgvfmndF21",
        "colab_type": "code",
        "colab": {}
      },
      "source": [
        "\n",
        "def word_cloud(tweets):\n",
        "    \n",
        "    #We get the directory that we are working on\n",
        "    file = os.getcwd()\n",
        "    #We read the mask image into a numpy array\n",
        "    #Now we store the tweets into a series to be able to process \n",
        "    #tweets_list = pd.Series([t for t in tweet_table.tweet]).str.cat(sep=' ')  \n",
        "    #We generate the wordcloud using the series created and the mask \n",
        "    word_cloud = WordCloud(width=2000, height=1000, max_font_size=200, background_color=\"black\", max_words=2000, contour_width=1, \n",
        "                           contour_color=\"steelblue\", colormap=\"nipy_spectral\", stopwords=[\"Automation\"])\n",
        "    word_cloud.generate(tweets)\n",
        "    \n",
        "    #wordcloud = WordCloud(width=1600, height=800,max_font_size=200).generate(tweets_list)\n",
        "    \n",
        "    #Now we plot both figures, the wordcloud and the mask\n",
        "    #plt.figure(figsize=(15,15))\n",
        "    plt.figure(figsize=(10,10))\n",
        "    plt.imshow(word_cloud, interpolation=\"hermite\")\n",
        "    plt.axis(\"off\")\n",
        "    #plt.imshow(avengers_mask, cmap=plt.cm.gray, interpolation=\"bilinear\")\n",
        "    #plt.axis(\"off\")    \n",
        "    plt.show()"
      ],
      "execution_count": 0,
      "outputs": []
    },
    {
      "cell_type": "code",
      "metadata": {
        "id": "dOG5eTRmdxlj",
        "colab_type": "code",
        "colab": {}
      },
      "source": [
        "def graph(word_frequency, sent):\n",
        "    labels = word_frequency[0][1:51].index\n",
        "    title = \"Word Frequency for %s\" %sent\n",
        "    #Plot the figures\n",
        "    plt.figure(figsize=(10,5))\n",
        "    plt.bar(np.arange(50), word_frequency[0][1:51], width = 0.8, color = sns.color_palette(\"bwr\"), alpha=0.5, \n",
        "            edgecolor = \"black\", capsize=8, linewidth=1);\n",
        "    plt.xticks(np.arange(50), labels, rotation=90, size=14);\n",
        "    plt.xlabel(\"50 more frequent words\", size=14);\n",
        "    plt.ylabel(\"Frequency\", size=14);\n",
        "    #plt.title('Word Frequency for %s', size=18) %sent;\n",
        "    plt.title(title, size=18)\n",
        "    plt.grid(False);\n",
        "    plt.gca().spines[\"top\"].set_visible(False);\n",
        "    plt.gca().spines[\"right\"].set_visible(False);\n",
        "    plt.show()"
      ],
      "execution_count": 0,
      "outputs": []
    },
    {
      "cell_type": "code",
      "metadata": {
        "id": "c_047snfeAB0",
        "colab_type": "code",
        "colab": {
          "base_uri": "https://localhost:8080/",
          "height": 1000
        },
        "outputId": "5412f126-0780-4de3-aa48-599c17039f97"
      },
      "source": [
        "table=cleaning_table(table)  \n",
        "word_frequency = vectorization(table).sort_values(0, ascending = False)\n",
        "print(word_frequency)\n",
        "graph(word_frequency, 'all')\n",
        "\n",
        "  #word_cloud(pd.Series([t for t in table['Tweet Text']]).str.cat(sep=' '))    \n"
      ],
      "execution_count": 49,
      "outputs": [
        {
          "output_type": "stream",
          "text": [
            "                      0\n",
            "brt               22324\n",
            "ai                 9018\n",
            "data               5647\n",
            "iot                4875\n",
            "automation         4698\n",
            "new                3528\n",
            "technology         3335\n",
            "machinelearning    3061\n",
            "amp                2990\n",
            "robotics           2825\n",
            "work               2779\n",
            "future             2630\n",
            "intelligence       2611\n",
            "jobs               2373\n",
            "skills             2305\n",
            "bigdata            2292\n",
            "artificial         2269\n",
            "datascience        2151\n",
            "make               2039\n",
            "robots             2017\n",
            "manufacturing      1993\n",
            "learning           1894\n",
            "get                1884\n",
            "analytics          1851\n",
            "via                1846\n",
            "tech               1838\n",
            "industry           1816\n",
            "human              1768\n",
            "machines           1685\n",
            "money              1630\n",
            "...                 ...\n",
            "kimaicutler           1\n",
            "kimberlydusen         1\n",
            "kingxerocole          1\n",
            "kingstonelisha        1\n",
            "biologist             1\n",
            "kingjimin             1\n",
            "kingjames             1\n",
            "kingholochain         1\n",
            "kingdomxex            1\n",
            "biomachines           1\n",
            "kinexa                1\n",
            "kinetix               1\n",
            "kineticahq            1\n",
            "kinetekcons           1\n",
            "kinematics            1\n",
            "biomanufacturing      1\n",
            "kindof                1\n",
            "biomecial             1\n",
            "kindnesmaters         1\n",
            "biomed                1\n",
            "kindest               1\n",
            "kinder                1\n",
            "biometricupdate       1\n",
            "biomimetic            1\n",
            "biomimetics           1\n",
            "kimseubert            1\n",
            "kimnorveldmr          1\n",
            "kimjordahl            1\n",
            "kimf                  1\n",
            "zythophiliac          1\n",
            "\n",
            "[49689 rows x 1 columns]\n"
          ],
          "name": "stdout"
        },
        {
          "output_type": "display_data",
          "data": {
            "image/png": "[encoded data removed]",
            "text/plain": [
              "<Figure size 720x360 with 1 Axes>"
            ]
          },
          "metadata": {
            "tags": []
          }
        }
      ]
    }
  ]
}